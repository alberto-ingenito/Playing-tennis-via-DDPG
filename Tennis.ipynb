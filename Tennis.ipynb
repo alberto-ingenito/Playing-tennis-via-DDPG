{
 "cells": [
  {
   "cell_type": "markdown",
   "metadata": {},
   "source": [
    "# Collaboration and Competition\n",
    "\n",
    "---\n",
    "You can train the agent and then test it, or just test the pre-trained model. If so, jump to step 5.\n",
    "\n",
    "# TRAINING\n",
    "\n",
    "### 1. Start the Environment\n",
    "We begin by importing the necessary packages. If the code cell below returns an error, please check that you have installed Unity ML-Agents and NumPy."
   ]
  },
  {
   "cell_type": "code",
   "execution_count": 2,
   "metadata": {},
   "outputs": [],
   "source": [
    "from unityagents import UnityEnvironment\n",
    "import numpy as np"
   ]
  },
  {
   "cell_type": "markdown",
   "metadata": {},
   "source": [
    "\n",
    "Let's start the environment!\n",
    "\n",
    "\n",
    "### 2. Examine the State and Action Spaces\n",
    "\n",
    "The environment here is populated by two agents playing a tennis-like game.\n",
    "\n",
    "If an agent hits the ball over the net, it receives a reward of +0.1. If an agent lets a ball hit the ground or hits the ball out of bounds, it receives a reward of -0.01. Thus, the goal of each agent is to keep the ball in play.\n",
    "\n",
    "The observation space consists of 8 variables corresponding to the position and velocity of the ball and racket. Each agent receives its own, local observation. Two continuous actions are available, corresponding to movement toward (or away from) the net, and jumping.\n",
    "\n",
    "Every entry in the action vector is expected to be a number between -1 and 1.\n",
    "\n",
    "Run the code cell below to print more details."
   ]
  },
  {
   "cell_type": "code",
   "execution_count": 3,
   "metadata": {},
   "outputs": [
    {
     "name": "stderr",
     "output_type": "stream",
     "text": [
      "INFO:unityagents:\n",
      "'Academy' started successfully!\n",
      "Unity Academy name: Academy\n",
      "        Number of Brains: 1\n",
      "        Number of External Brains : 1\n",
      "        Lesson number : 0\n",
      "        Reset Parameters :\n",
      "\t\t\n",
      "Unity brain name: TennisBrain\n",
      "        Number of Visual Observations (per agent): 0\n",
      "        Vector Observation space type: continuous\n",
      "        Vector Observation space size (per agent): 8\n",
      "        Number of stacked Vector Observation: 3\n",
      "        Vector Action space type: continuous\n",
      "        Vector Action space size (per agent): 2\n",
      "        Vector Action descriptions: , \n"
     ]
    }
   ],
   "source": [
    "from unityagents import UnityEnvironment\n",
    "import numpy as np\n",
    "\n",
    "env = UnityEnvironment(file_name=\"Tennis_Windows_x86_64/Tennis.exe\")"
   ]
  },
  {
   "cell_type": "markdown",
   "metadata": {},
   "source": [
    "Environments contain **_brains_** which animate the environment. Our brain of interest is the first one. Let's pick it!"
   ]
  },
  {
   "cell_type": "code",
   "execution_count": 4,
   "metadata": {},
   "outputs": [],
   "source": [
    "# get the default brain\n",
    "brain_name = env.brain_names[0]\n",
    "brain = env.brains[brain_name]"
   ]
  },
  {
   "cell_type": "markdown",
   "metadata": {},
   "source": [
    "### 2. Examine the State and Action Spaces\n",
    "\n",
    "Run the code cell below to print more details about the environment."
   ]
  },
  {
   "cell_type": "code",
   "execution_count": 5,
   "metadata": {},
   "outputs": [
    {
     "name": "stdout",
     "output_type": "stream",
     "text": [
      "Number of agents: 2\n",
      "Size of each action: 2\n",
      "There are 2 agents. Each observes a state with length: 24\n",
      "The state for the first agent looks like: [ 0.          0.          0.          0.          0.          0.\n",
      "  0.          0.          0.          0.          0.          0.\n",
      "  0.          0.          0.          0.         -6.65278625 -1.5\n",
      " -0.          0.          6.83172083  6.         -0.          0.        ]\n"
     ]
    }
   ],
   "source": [
    "# reset the environment\n",
    "env_info = env.reset(train_mode=True)[brain_name]\n",
    "\n",
    "# number of agents\n",
    "num_agents = len(env_info.agents)\n",
    "print('Number of agents:', num_agents)\n",
    "\n",
    "# size of each action\n",
    "action_size = brain.vector_action_space_size\n",
    "print('Size of each action:', action_size)\n",
    "\n",
    "# examine the state space \n",
    "states = env_info.vector_observations\n",
    "state_size = states.shape[1]\n",
    "print('There are {} agents. Each observes a state with length: {}'.format(states.shape[0], state_size))\n",
    "print('The state for the first agent looks like:', states[0])"
   ]
  },
  {
   "cell_type": "markdown",
   "metadata": {},
   "source": [
    "### 3. Train the agents\n",
    "\n",
    "Let's train the agent.\n",
    "The training will stop if desired score or n_episodes (max) is reached. Each episode can last at most max_t steps."
   ]
  },
  {
   "cell_type": "code",
   "execution_count": 8,
   "metadata": {},
   "outputs": [
    {
     "name": "stdout",
     "output_type": "stream",
     "text": [
      "Episode 2000\tAverage Score (of the winner agent): 0.000000000\n",
      "Episode 2100\tAverage Score (of the winner agent): 0.000000000\n",
      "Episode 2200\tAverage Score (of the winner agent): 0.000000000\n",
      "Episode 2300\tAverage Score (of the winner agent): 0.000000000\n",
      "Episode 2400\tAverage Score (of the winner agent): 0.000000000\n",
      "Episode 2500\tAverage Score (of the winner agent): 0.000000000\n",
      "Episode 2600\tAverage Score (of the winner agent): 0.000000000\n",
      "Episode 2700\tAverage Score (of the winner agent): 0.000000000\n",
      "Episode 2800\tAverage Score (of the winner agent): 0.000000000\n",
      "Episode 2900\tAverage Score (of the winner agent): 0.000000000\n",
      "Episode 3000\tAverage Score (of the winner agent): 0.000000000\n",
      "Episode 3100\tAverage Score (of the winner agent): 0.000000000\n",
      "Episode 3200\tAverage Score (of the winner agent): 0.000000000\n",
      "Episode 3300\tAverage Score (of the winner agent): 0.002900000\n",
      "Episode 3400\tAverage Score (of the winner agent): 0.000000000\n",
      "Episode 3500\tAverage Score (of the winner agent): 0.000000000\n",
      "Episode 3600\tAverage Score (of the winner agent): 0.001900000\n",
      "Episode 3700\tAverage Score (of the winner agent): 0.000000000\n",
      "Episode 3800\tAverage Score (of the winner agent): 0.002900000\n",
      "Episode 3900\tAverage Score (of the winner agent): 0.005000000\n",
      "Episode 4000\tAverage Score (of the winner agent): 0.011700000\n",
      "Episode 4100\tAverage Score (of the winner agent): 0.023100000\n",
      "Episode 4200\tAverage Score (of the winner agent): 0.027700000\n",
      "Episode 4300\tAverage Score (of the winner agent): 0.042500001\n",
      "Episode 4400\tAverage Score (of the winner agent): 0.010300000\n",
      "Episode 4500\tAverage Score (of the winner agent): 0.001000000\n",
      "Episode 4600\tAverage Score (of the winner agent): 0.045200001\n",
      "Episode 4700\tAverage Score (of the winner agent): 0.088900001\n",
      "Episode 4800\tAverage Score (of the winner agent): 0.099200002\n",
      "Episode 4900\tAverage Score (of the winner agent): 0.120800002\n",
      "Episode 5000\tAverage Score (of the winner agent): 0.198400003\n",
      "Episode 5100\tAverage Score (of the winner agent): 0.120900002\n",
      "Episode 5200\tAverage Score (of the winner agent): 0.051900001\n",
      "Episode 5300\tAverage Score (of the winner agent): 0.032500001\n",
      "Episode 5400\tAverage Score (of the winner agent): 0.000900000\n",
      "Episode 5500\tAverage Score (of the winner agent): 0.001900000\n",
      "Episode 5600\tAverage Score (of the winner agent): 0.034800001\n",
      "Episode 5700\tAverage Score (of the winner agent): 0.215400003\n",
      "Episode 5800\tAverage Score (of the winner agent): 0.077200001\n",
      "Episode 5900\tAverage Score (of the winner agent): 0.038400001\n",
      "Episode 6000\tAverage Score (of the winner agent): 0.059200001\n",
      "Episode 6100\tAverage Score (of the winner agent): 0.082500001\n",
      "Episode 6200\tAverage Score (of the winner agent): 0.089100001\n",
      "Episode 6300\tAverage Score (of the winner agent): 0.270400004\n",
      "Episode 6400\tAverage Score (of the winner agent): 0.121900002\n",
      "Episode 6500\tAverage Score (of the winner agent): 0.449700007\n",
      "Episode 6522\t Score: [0.29 0.3 ] 1.09000002]\n",
      "Environment solved in 6422 episodes!\tAverage Score: 0.500500007\n"
     ]
    }
   ],
   "source": [
    "from cc_ddpg_agent import Agents\n",
    "from collections import deque\n",
    "import torch\n",
    "\n",
    "n_episodes=10000\n",
    "max_t=1000\n",
    "desired_score=0.5\n",
    "\n",
    "agents = Agents(num_agents, state_size, action_size, 4109)\n",
    "\n",
    "scores = []                        # list containing scores from each episode\n",
    "scores_window = deque(maxlen=100)  # last 100 scores\n",
    "\n",
    "for i_episode in range(1, n_episodes+1): \n",
    "\n",
    "    env_info = env.reset(train_mode=True)[brain_name]      # reset the environment    \n",
    "    states = env_info.vector_observations                  # get the current state (for each agent)\n",
    "    score = np.zeros(num_agents)                           # initialize the score (for each agent)\n",
    "\n",
    "    for t in range(max_t):\n",
    "        actions     = agents.act(states)                   # select an action (for each agent)\n",
    "        env_info    = env.step(actions)[brain_name]        # send all actions to tne environment\n",
    "        next_states = env_info.vector_observations         # get next state (for each agent)\n",
    "        rewards     = env_info.rewards                     # get reward (for each agent)\n",
    "        dones       = env_info.local_done                  # see if episode finished\n",
    "\n",
    "        agents.step(states, actions, rewards, next_states, dones)\n",
    "        \n",
    "        states = next_states                               # roll over states to next time step\n",
    "        score += env_info.rewards                          # update the score (for each agent)\n",
    "        \n",
    "        if np.any(dones):                                  # exit loop if episode finished\n",
    "            break\n",
    "     \n",
    "    episode_score = np.max(score)             # pick the best score between the agents    \n",
    "    scores_window.append(episode_score)       # save most recent episode score\n",
    "    scores.append(episode_score)              # save most recent episode score\n",
    "    print('\\rEpisode {}\\t Score: {}'.format(i_episode, score), end=\"\")\n",
    "\n",
    "    if i_episode % 100 == 0:\n",
    "        print('\\rEpisode {}\\tAverage Score (of the winner agent): {:.9f}'.format(i_episode, np.mean(scores_window)))\n",
    "    if np.mean(scores_window)>=desired_score:\n",
    "        print('\\nEnvironment solved in {:d} episodes!\\tAverage Score: {:.9f}'.format(i_episode-100, np.mean(scores_window)))\n",
    "        torch.save(agents.actor_local.state_dict(),   'backup_actor_local.pth')\n",
    "        torch.save(agents.actor_target.state_dict(),  'backup_actor_target.pth')\n",
    "        torch.save(agents.critic_local.state_dict(),  'backup_critic_local.pth')\n",
    "        torch.save(agents.critic_target.state_dict(), 'backup_critic_target.pth')\n",
    "        break\n"
   ]
  },
  {
   "cell_type": "markdown",
   "metadata": {},
   "source": [
    "When finished, you can close the environment."
   ]
  },
  {
   "cell_type": "code",
   "execution_count": 11,
   "metadata": {},
   "outputs": [],
   "source": [
    "env.close()"
   ]
  },
  {
   "cell_type": "markdown",
   "metadata": {},
   "source": [
    "### 4. Was training successful?\n",
    "If training was successful, the desired score has been achieved.\n",
    "Let's see how: episode by episode (on average).  \n",
    "If training failed, run it again (you could also play with parameters before)."
   ]
  },
  {
   "cell_type": "code",
   "execution_count": 9,
   "metadata": {},
   "outputs": [
    {
     "name": "stdout",
     "output_type": "stream",
     "text": [
      "Requirement already satisfied: box2d in c:\\users\\alberto.ingenito\\miniconda3\\envs\\drlnd\\lib\\site-packages (2.3.10)\n"
     ]
    }
   ],
   "source": [
    "# Install necessary packages...\n",
    "!pip3 install box2d\n",
    "\n",
    "import matplotlib.pyplot as plt\n",
    "%matplotlib inline\n",
    "\n"
   ]
  },
  {
   "cell_type": "code",
   "execution_count": 24,
   "metadata": {},
   "outputs": [
    {
     "data": {
      "image/png": "[encoded data removed]",
      "text/plain": [
       "<Figure size 432x288 with 1 Axes>"
      ]
     },
     "metadata": {
      "needs_background": "light"
     },
     "output_type": "display_data"
    }
   ],
   "source": [
    "# plot the scores\n",
    "fig = plt.figure()\n",
    "ax = fig.add_subplot(111)\n",
    "plt.plot(np.arange(2000,2000+len(scores)), scores)\n",
    "plt.ylabel('Score')\n",
    "plt.xlabel('Episode #')\n",
    "plt.show()"
   ]
  },
  {
   "cell_type": "markdown",
   "metadata": {},
   "source": [
    "# TESTING\n",
    "### 5. Agent in action!\n",
    "Let's see how the trained agents play!\n",
    "We'll load the previously trained model: checkpoint.pth .\n",
    "\n",
    "Note: this step can be run apart from the previous TRAINING steps; the file contains a pre-trained model.\n"
   ]
  },
  {
   "cell_type": "code",
   "execution_count": 1,
   "metadata": {},
   "outputs": [
    {
     "name": "stderr",
     "output_type": "stream",
     "text": [
      "INFO:unityagents:\n",
      "'Academy' started successfully!\n",
      "Unity Academy name: Academy\n",
      "        Number of Brains: 1\n",
      "        Number of External Brains : 1\n",
      "        Lesson number : 0\n",
      "        Reset Parameters :\n",
      "\t\t\n",
      "Unity brain name: TennisBrain\n",
      "        Number of Visual Observations (per agent): 0\n",
      "        Vector Observation space type: continuous\n",
      "        Vector Observation space size (per agent): 8\n",
      "        Number of stacked Vector Observation: 3\n",
      "        Vector Action space type: continuous\n",
      "        Vector Action space size (per agent): 2\n",
      "        Vector Action descriptions: , \n"
     ]
    },
    {
     "name": "stdout",
     "output_type": "stream",
     "text": [
      "Number of agents: 2\n",
      "Size of each action: 2\n",
      "There are 2 agents. Each observes a state with length: 24\n",
      "The state for the first agent looks like: [ 0.          0.          0.          0.          0.          0.\n",
      "  0.          0.          0.          0.          0.          0.\n",
      "  0.          0.          0.          0.         -6.65278625 -1.5\n",
      " -0.          0.          6.83172083  6.         -0.          0.        ]\n"
     ]
    }
   ],
   "source": [
    "from unityagents import UnityEnvironment\n",
    "import numpy as np\n",
    "\n",
    "env = UnityEnvironment(file_name='Tennis_Windows_x86_64/Tennis.exe')\n",
    "\n",
    "# get the default brain\n",
    "brain_name = env.brain_names[0]\n",
    "brain = env.brains[brain_name]\n",
    "\n",
    "# reset the environment\n",
    "env_info = env.reset(train_mode=False)[brain_name]\n",
    "\n",
    "# number of agents\n",
    "num_agents = len(env_info.agents)\n",
    "print('Number of agents:', num_agents)\n",
    "\n",
    "# size of each action\n",
    "action_size = brain.vector_action_space_size\n",
    "print('Size of each action:', action_size)\n",
    "\n",
    "# examine the state space \n",
    "states = env_info.vector_observations\n",
    "state_size = states.shape[1]\n",
    "print('There are {} agents. Each observes a state with length: {}'.format(states.shape[0], state_size))\n",
    "print('The state for the first agent looks like:', states[0])"
   ]
  },
  {
   "cell_type": "code",
   "execution_count": 2,
   "metadata": {},
   "outputs": [],
   "source": [
    "from cc_ddpg_agent import Agents\n",
    "import torch \n",
    "\n",
    "agents = Agents(num_agents, state_size, action_size, 4109)\n",
    "agents.load_to_cpu(path='backup_actor_local.pth')"
   ]
  },
  {
   "cell_type": "code",
   "execution_count": null,
   "metadata": {},
   "outputs": [],
   "source": [
    "import time\n",
    "\n",
    "env_info = env.reset(train_mode=False)[brain_name]      # reset the environment    \n",
    "states = env_info.vector_observations                  # get the current state (for each agent)\n",
    "score = np.zeros(num_agents)                           # initialize the score (for each agent)\n",
    "\n",
    "max_t = 1000\n",
    "for t in range(max_t):\n",
    "    actions     = agents.act(states)                   # select an action (for each agent)\n",
    "    env_info    = env.step(actions)[brain_name]        # send all actions to tne environment\n",
    "    next_states = env_info.vector_observations         # get next state (for each agent)\n",
    "    rewards     = env_info.rewards                     # get reward (for each agent)\n",
    "    dones       = env_info.local_done                  # see if episode finished\n",
    "    states = next_states                               # roll over states to next time step\n",
    "    score += env_info.rewards                          # update the score (for each agent)\n",
    "    \n",
    "    time.sleep(0)\n",
    "    if np.any(dones):                                  # exit loop if episode finished\n",
    "        break\n",
    "\n",
    "episode_score = np.max(score)                         # score averaged over agents    \n",
    "print('\\rEpisode  Maximum Score (between agents): {:.2f}'.format(episode_score), end=\"\")\n"
   ]
  },
  {
   "cell_type": "code",
   "execution_count": 7,
   "metadata": {},
   "outputs": [],
   "source": [
    "env.close()"
   ]
  }
 ],
 "metadata": {
  "kernelspec": {
   "display_name": "drlnd",
   "language": "python",
   "name": "drlnd"
  },
  "language_info": {
   "codemirror_mode": {
    "name": "ipython",
    "version": 3
   },
   "file_extension": ".py",
   "mimetype": "text/x-python",
   "name": "python",
   "nbconvert_exporter": "python",
   "pygments_lexer": "ipython3",
   "version": "3.6.12"
  }
 },
 "nbformat": 4,
 "nbformat_minor": 2
}
